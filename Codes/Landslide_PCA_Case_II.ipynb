{
  "nbformat": 4,
  "nbformat_minor": 0,
  "metadata": {
    "coursera": {
      "course_slug": "mathematics-machine-learning-pca",
      "graded_item_id": "CXC11",
      "launcher_item_id": "ub5A7"
    },
    "kernelspec": {
      "display_name": "Python 3",
      "language": "python",
      "name": "python3"
    },
    "language_info": {
      "codemirror_mode": {
        "name": "ipython",
        "version": 3
      },
      "file_extension": ".py",
      "mimetype": "text/x-python",
      "name": "python",
      "nbconvert_exporter": "python",
      "pygments_lexer": "ipython3",
      "version": "3.6.6"
    },
    "colab": {
      "name": "PCA_Case_II.ipynb",
      "provenance": [],
      "collapsed_sections": []
    }
  },
  "cells": [
    {
      "cell_type": "code",
      "metadata": {
        "id": "faf_XJY6OkJQ",
        "colab_type": "code",
        "colab": {}
      },
      "source": [
        "import pandas as pd\n",
        "import numpy as np\n",
        "import timeit\n",
        "import matplotlib as mpl\n",
        "mpl.use('Agg')\n",
        "import matplotlib.pyplot as plt\n",
        "plt.style.use('fivethirtyeight')\n",
        "from ipywidgets import interact\n",
        "%matplotlib inline"
      ],
      "execution_count": 0,
      "outputs": []
    },
    {
      "cell_type": "code",
      "metadata": {
        "id": "RLKWYpxdfORo",
        "colab_type": "code",
        "colab": {}
      },
      "source": [
        "def normalize(X):\n",
        "    mu = np.mean(X, axis=0)     # Compute the mean of X\n",
        "    std = np.std(X, axis=0)     # Compute the std of X\n",
        "    std_filled = std.copy()\n",
        "    std_filled[std==0] = 1.\n",
        "    Xbar = (X - mu)/std_filled  # Compute the normalized data Xbar\n",
        "    return Xbar, mu, std     "
      ],
      "execution_count": 0,
      "outputs": []
    },
    {
      "cell_type": "code",
      "metadata": {
        "id": "8rj4jnEjfOHt",
        "colab_type": "code",
        "outputId": "f8535227-184b-4015-e4b8-78f9fb411bfb",
        "colab": {
          "base_uri": "https://localhost:8080/",
          "height": 105
        }
      },
      "source": [
        "df2 = pd.read_csv(\"/content/GLC03122015_latest.csv\", header='infer')\n",
        "\n",
        "x = df2.iloc[:7,:]\n",
        "X = x.values\n",
        "print(X.shape)\n",
        "Xbar, mu, std = normalize(X)\n",
        "print(Xbar.shape)\n",
        "print(mu.shape)\n",
        "print(std.shape)\n",
        "print(np.trace(Xbar))\n"
      ],
      "execution_count": 0,
      "outputs": [
        {
          "output_type": "stream",
          "text": [
            "(7, 11)\n",
            "(7, 11)\n",
            "(11,)\n",
            "(11,)\n",
            "1.5414276425537436\n"
          ],
          "name": "stdout"
        }
      ]
    },
    {
      "cell_type": "code",
      "metadata": {
        "id": "9FEnQXB0eqUA",
        "colab_type": "code",
        "colab": {}
      },
      "source": [
        "def eig_sorted(S):\n",
        "    eigvals, eigvecs = np.linalg.eig(S)\n",
        "    idx = eigvals.argsort()[::-1]   \n",
        "    eigvals = eigvals[idx]\n",
        "    eigvecs = eigvecs[:,idx]\n",
        "    return (eigvals, eigvecs) \n"
      ],
      "execution_count": 0,
      "outputs": []
    },
    {
      "cell_type": "code",
      "metadata": {
        "id": "RTuwqPrkeqRx",
        "colab_type": "code",
        "colab": {}
      },
      "source": [
        "def eig_unsorted(S):\n",
        "    eigvals, eigvecs = np.linalg.eig(S)\n",
        "    return (eigvals,eigvecs)"
      ],
      "execution_count": 0,
      "outputs": []
    },
    {
      "cell_type": "code",
      "metadata": {
        "id": "MDgtaVsdeqMu",
        "colab_type": "code",
        "colab": {}
      },
      "source": [
        "def projection_matrix(B):\n",
        "    P = np.matmul(B,B.T) \n",
        "    return P "
      ],
      "execution_count": 0,
      "outputs": []
    },
    {
      "cell_type": "code",
      "metadata": {
        "id": "6N1cAYDceqKD",
        "colab_type": "code",
        "colab": {}
      },
      "source": [
        "def PCA_sorted(X, num_components):\n",
        "    Xbar,mu,std=normalize(X)\n",
        "    covariance=np.matmul(Xbar,Xbar.T)\n",
        "    S=covariance\n",
        "    eigvals,eigvecs=eig_sorted(S)\n",
        "    eigenSum = eigvals[:num_components].sum()\n",
        "    B = np.stack(eigvecs[:,:num_components])\n",
        "    P = np.matmul(B,B.T)\n",
        "    X_reconstruct=np.matmul(P,X)\n",
        "    X_reconstruct=X_reconstruct\n",
        "    return eigenSum, X_reconstruct\n"
      ],
      "execution_count": 0,
      "outputs": []
    },
    {
      "cell_type": "code",
      "metadata": {
        "id": "Y41zmyiyeqHn",
        "colab_type": "code",
        "colab": {}
      },
      "source": [
        "def PCA_unsorted(X, num_components):\n",
        "    Xbar,mu,std=normalize(X)\n",
        "    covariance=np.matmul(Xbar,Xbar.T)\n",
        "    S=covariance\n",
        "    eigvals,eigvecs=eig_unsorted(S)\n",
        "    B = np.stack(eigvecs[:,:num_components])\n",
        "    P = np.matmul(B,B.T)\n",
        "    X_reconstruct=np.matmul(P,X)\n",
        "    X_reconstruct=X_reconstruct\n",
        "    return X_reconstruct \n",
        "    \n"
      ],
      "execution_count": 0,
      "outputs": []
    },
    {
      "cell_type": "code",
      "metadata": {
        "id": "KVxiDMQ7eqFa",
        "colab_type": "code",
        "outputId": "131e4f9e-03ff-45cf-9f43-18f99f42dc8f",
        "colab": {
          "base_uri": "https://localhost:8080/",
          "height": 52
        }
      },
      "source": [
        "covariance = np.matmul(Xbar,Xbar.T)\n",
        "print(covariance.shape)\n",
        "print(np.trace(covariance))\n",
        "S = covariance"
      ],
      "execution_count": 0,
      "outputs": [
        {
          "output_type": "stream",
          "text": [
            "(7, 7)\n",
            "77.00000000000001\n"
          ],
          "name": "stdout"
        }
      ]
    },
    {
      "cell_type": "code",
      "metadata": {
        "id": "txquWr6aeqDH",
        "colab_type": "code",
        "outputId": "eac0c3cc-4b0b-45ca-ced9-d7dcb2d9797c",
        "colab": {
          "base_uri": "https://localhost:8080/",
          "height": 298
        }
      },
      "source": [
        "sorted_eigvals, sorted_eigvecs = eig_sorted(S)\n",
        "unsorted_eigvals, unsorted_eigvecs = eig_unsorted(S)\n",
        "plt.plot(sorted_eigvals, label = 'Sorted Eigen values')\n",
        "plt.plot(unsorted_eigvals, label = 'Unsorted Eigen values')\n",
        "plt.xlabel(\"$index$\")\n",
        "plt.ylabel(\"$EigenValues$\")\n",
        "plt.legend()\n"
      ],
      "execution_count": 0,
      "outputs": [
        {
          "output_type": "execute_result",
          "data": {
            "text/plain": [
              "<matplotlib.legend.Legend at 0x7f399df1c208>"
            ]
          },
          "metadata": {
            "tags": []
          },
          "execution_count": 10
        },
        {
          "output_type": "display_data",
          "data": {
            "image/png": "[encoded data removed]",
            "text/plain": [
              "<Figure size 432x288 with 1 Axes>"
            ]
          },
          "metadata": {
            "tags": []
          }
        }
      ]
    },
    {
      "cell_type": "code",
      "metadata": {
        "id": "IM8SrVGSep_T",
        "colab_type": "code",
        "colab": {}
      },
      "source": [
        "def mse(predict, actual):\n",
        "    return np.square(predict - actual).sum(axis=1).mean()\n"
      ],
      "execution_count": 0,
      "outputs": []
    },
    {
      "cell_type": "code",
      "metadata": {
        "id": "YG0aIn-lep8v",
        "colab_type": "code",
        "colab": {}
      },
      "source": [
        "\n",
        "loss_1 = []\n",
        "variance = []\n",
        "reconstructions_1 = []\n",
        "# iterate over different numbers of principal components, and compute the MSE\n",
        "for num_component in range(1, 14):\n",
        "    eigenSum, reconst_1 = PCA_sorted(Xbar, num_component)\n",
        "    error_1 = mse(reconst_1, Xbar)\n",
        "    reconstructions_1.append(reconst_1)\n",
        "    variance.append((num_component, eigenSum))\n",
        "    loss_1.append((num_component, error_1))\n",
        "\n",
        "reconstructions_1 = np.asarray(reconstructions_1)\n",
        "reconstructions_1 = reconstructions_1 * std + mu # \"unnormalize\" the reconstructed image\n",
        "loss_1 = np.asarray(loss_1)\n",
        "\n",
        "variance = np.asarray(variance)"
      ],
      "execution_count": 0,
      "outputs": []
    },
    {
      "cell_type": "code",
      "metadata": {
        "id": "vh0r3r00ep2B",
        "colab_type": "code",
        "colab": {}
      },
      "source": [
        "loss_2 = []\n",
        "reconstructions_2 = []\n",
        "# iterate over different numbers of principal components, and compute the MSE\n",
        "for num_component in range(1, 14):\n",
        "    reconst_2 = PCA_unsorted(Xbar, num_component)\n",
        "    error_2 = mse(reconst_2, Xbar)\n",
        "    reconstructions_2.append(reconst_2)\n",
        "    loss_2.append((num_component, error_2))\n",
        "\n",
        "reconstructions_2 = np.asarray(reconstructions_2)\n",
        "reconstructions_2 = reconstructions_2 * std + mu # \"unnormalize\" the reconstructed image\n",
        "loss_2 = np.asarray(loss_2)\n"
      ],
      "execution_count": 0,
      "outputs": []
    },
    {
      "cell_type": "code",
      "metadata": {
        "id": "5Zdi410Fepyr",
        "colab_type": "code",
        "outputId": "fe07b79b-7e81-4377-8f6f-dcea300945cd",
        "colab": {
          "base_uri": "https://localhost:8080/",
          "height": 314
        }
      },
      "source": [
        "fig, ax = plt.subplots()\n",
        "ax.plot(loss_1[:,0], loss_1[:,1], label = 'MSE for sorted Eigen Values');\n",
        "ax.plot(loss_2[:,0], loss_2[:,1], label = 'MSE for unsorted Eigen Values');\n",
        "ax.set(xlabel='num_components', ylabel='MSE', title='MSE vs number of principal components');\n",
        "plt.legend()"
      ],
      "execution_count": 0,
      "outputs": [
        {
          "output_type": "execute_result",
          "data": {
            "text/plain": [
              "<matplotlib.legend.Legend at 0x7f399d9d1550>"
            ]
          },
          "metadata": {
            "tags": []
          },
          "execution_count": 14
        },
        {
          "output_type": "display_data",
          "data": {
            "image/png": "[encoded data removed]",
            "text/plain": [
              "<Figure size 432x288 with 1 Axes>"
            ]
          },
          "metadata": {
            "tags": []
          }
        }
      ]
    },
    {
      "cell_type": "code",
      "metadata": {
        "id": "gSR29oSuQmPK",
        "colab_type": "code",
        "outputId": "1ac880b6-3c9c-4488-a373-a4c1ac3fb67f",
        "colab": {
          "base_uri": "https://localhost:8080/",
          "height": 279
        }
      },
      "source": [
        "plt.plot(variance[:,0], variance[:,1])\n",
        "plt.xlabel(\"Number of principle components\")\n",
        "plt.ylabel(\"Variance\");\n"
      ],
      "execution_count": 0,
      "outputs": [
        {
          "output_type": "display_data",
          "data": {
            "image/png": "[encoded data removed]",
            "text/plain": [
              "<Figure size 432x288 with 1 Axes>"
            ]
          },
          "metadata": {
            "tags": []
          }
        }
      ]
    },
    {
      "cell_type": "code",
      "metadata": {
        "id": "93gKXqbCPbjP",
        "colab_type": "code",
        "colab": {}
      },
      "source": [
        ""
      ],
      "execution_count": 0,
      "outputs": []
    }
  ]
}